{
 "cells": [
  {
   "cell_type": "markdown",
   "id": "f26166f7-4bd5-4db9-8eed-d3b6c8ad648e",
   "metadata": {},
   "source": [
    "<h1>Pre-processing & Training Data Development</h1>\n",
    "\n",
    "This step in the data pre processing will concentrate on pre-processing and data training. The goal of this step is to normalize and standardize all the features in the dataset, as well as create a validation set.\n",
    "\n",
    "At the end of this stage we will have:\n",
    "- dummy variables for our categorical ones\n",
    "- standardized variables\n",
    "\n",
    "- a split of train and test data"
   ]
  },
  {
   "cell_type": "code",
   "execution_count": 1,
   "id": "e3063741-1785-4764-af38-f7e734d514a9",
   "metadata": {},
   "outputs": [],
   "source": [
    "# start by import necessary packages\n",
    "import pandas as pd\n",
    "import numpy as np\n",
    "import os\n",
    "import pickle\n",
    "import matplotlib.pyplot as plt\n",
    "import seaborn as sns\n",
    "from sklearn import __version__ as sklearn_version\n",
    "from sklearn.decomposition import PCA\n",
    "from sklearn.preprocessing import StandardScaler\n",
    "from sklearn.model_selection import train_test_split, cross_validate, GridSearchCV, learning_curve\n",
    "from sklearn.preprocessing import StandardScaler, MinMaxScaler\n",
    "from sklearn.dummy import DummyRegressor\n",
    "from sklearn.linear_model import LinearRegression\n",
    "from sklearn.ensemble import RandomForestRegressor\n",
    "from sklearn.metrics import r2_score, mean_squared_error, mean_absolute_error\n",
    "from sklearn.pipeline import make_pipeline\n",
    "from sklearn.impute import SimpleImputer\n",
    "from sklearn.feature_selection import SelectKBest, f_regression\n",
    "import datetime\n"
   ]
  },
  {
   "cell_type": "markdown",
   "id": "2f244cfa-ae90-456e-aafc-c3a7465fcefc",
   "metadata": {},
   "source": [
    "<h3> Loading the data</h3>\n",
    "We need to start by importing the data we have been using for this project."
   ]
  },
  {
   "cell_type": "code",
   "execution_count": 2,
   "id": "e07413e0-689e-41eb-800b-c57b1f2de8f7",
   "metadata": {},
   "outputs": [],
   "source": [
    "import os\n",
    "cwd = os.getcwd()"
   ]
  },
  {
   "cell_type": "code",
   "execution_count": 3,
   "id": "a5dc3f91-8cb7-4ab1-a768-9142162a631e",
   "metadata": {},
   "outputs": [
    {
     "name": "stdout",
     "output_type": "stream",
     "text": [
      "C:\\Users\\Alfredo\n"
     ]
    }
   ],
   "source": [
    "print(cwd)"
   ]
  },
  {
   "cell_type": "code",
   "execution_count": 4,
   "id": "6537e123-9148-42d1-95d2-e41c508d54ce",
   "metadata": {},
   "outputs": [
    {
     "data": {
      "text/html": [
       "<div>\n",
       "<style scoped>\n",
       "    .dataframe tbody tr th:only-of-type {\n",
       "        vertical-align: middle;\n",
       "    }\n",
       "\n",
       "    .dataframe tbody tr th {\n",
       "        vertical-align: top;\n",
       "    }\n",
       "\n",
       "    .dataframe thead th {\n",
       "        text-align: right;\n",
       "    }\n",
       "</style>\n",
       "<table border=\"1\" class=\"dataframe\">\n",
       "  <thead>\n",
       "    <tr style=\"text-align: right;\">\n",
       "      <th></th>\n",
       "      <th>daily_rank</th>\n",
       "      <th>daily_movement</th>\n",
       "      <th>weekly_movement</th>\n",
       "      <th>snapshot_date</th>\n",
       "      <th>popularity</th>\n",
       "      <th>is_explicit</th>\n",
       "      <th>duration_ms</th>\n",
       "      <th>album_release_date</th>\n",
       "      <th>danceability</th>\n",
       "      <th>energy</th>\n",
       "      <th>...</th>\n",
       "      <th>CTRY_SV</th>\n",
       "      <th>CTRY_TH</th>\n",
       "      <th>CTRY_TR</th>\n",
       "      <th>CTRY_TW</th>\n",
       "      <th>CTRY_UA</th>\n",
       "      <th>CTRY_US</th>\n",
       "      <th>CTRY_UY</th>\n",
       "      <th>CTRY_VE</th>\n",
       "      <th>CTRY_VN</th>\n",
       "      <th>CTRY_ZA</th>\n",
       "    </tr>\n",
       "  </thead>\n",
       "  <tbody>\n",
       "    <tr>\n",
       "      <th>0</th>\n",
       "      <td>1</td>\n",
       "      <td>49</td>\n",
       "      <td>49</td>\n",
       "      <td>2024-04-25</td>\n",
       "      <td>90</td>\n",
       "      <td>False</td>\n",
       "      <td>228965</td>\n",
       "      <td>2024-04-18</td>\n",
       "      <td>0.675</td>\n",
       "      <td>0.397</td>\n",
       "      <td>...</td>\n",
       "      <td>0</td>\n",
       "      <td>0</td>\n",
       "      <td>0</td>\n",
       "      <td>0</td>\n",
       "      <td>0</td>\n",
       "      <td>0</td>\n",
       "      <td>0</td>\n",
       "      <td>0</td>\n",
       "      <td>0</td>\n",
       "      <td>0</td>\n",
       "    </tr>\n",
       "    <tr>\n",
       "      <th>1</th>\n",
       "      <td>2</td>\n",
       "      <td>48</td>\n",
       "      <td>-1</td>\n",
       "      <td>2024-04-25</td>\n",
       "      <td>100</td>\n",
       "      <td>False</td>\n",
       "      <td>142514</td>\n",
       "      <td>2024-03-19</td>\n",
       "      <td>0.599</td>\n",
       "      <td>0.946</td>\n",
       "      <td>...</td>\n",
       "      <td>0</td>\n",
       "      <td>0</td>\n",
       "      <td>0</td>\n",
       "      <td>0</td>\n",
       "      <td>0</td>\n",
       "      <td>0</td>\n",
       "      <td>0</td>\n",
       "      <td>0</td>\n",
       "      <td>0</td>\n",
       "      <td>0</td>\n",
       "    </tr>\n",
       "    <tr>\n",
       "      <th>2</th>\n",
       "      <td>3</td>\n",
       "      <td>47</td>\n",
       "      <td>4</td>\n",
       "      <td>2024-04-25</td>\n",
       "      <td>92</td>\n",
       "      <td>True</td>\n",
       "      <td>175459</td>\n",
       "      <td>2024-04-12</td>\n",
       "      <td>0.701</td>\n",
       "      <td>0.771</td>\n",
       "      <td>...</td>\n",
       "      <td>0</td>\n",
       "      <td>0</td>\n",
       "      <td>0</td>\n",
       "      <td>0</td>\n",
       "      <td>0</td>\n",
       "      <td>0</td>\n",
       "      <td>0</td>\n",
       "      <td>0</td>\n",
       "      <td>0</td>\n",
       "      <td>0</td>\n",
       "    </tr>\n",
       "    <tr>\n",
       "      <th>3</th>\n",
       "      <td>4</td>\n",
       "      <td>46</td>\n",
       "      <td>-1</td>\n",
       "      <td>2024-04-25</td>\n",
       "      <td>98</td>\n",
       "      <td>True</td>\n",
       "      <td>222000</td>\n",
       "      <td>2024-02-02</td>\n",
       "      <td>0.791</td>\n",
       "      <td>0.499</td>\n",
       "      <td>...</td>\n",
       "      <td>0</td>\n",
       "      <td>0</td>\n",
       "      <td>0</td>\n",
       "      <td>0</td>\n",
       "      <td>0</td>\n",
       "      <td>0</td>\n",
       "      <td>0</td>\n",
       "      <td>0</td>\n",
       "      <td>0</td>\n",
       "      <td>0</td>\n",
       "    </tr>\n",
       "    <tr>\n",
       "      <th>4</th>\n",
       "      <td>5</td>\n",
       "      <td>45</td>\n",
       "      <td>45</td>\n",
       "      <td>2024-04-25</td>\n",
       "      <td>84</td>\n",
       "      <td>True</td>\n",
       "      <td>218004</td>\n",
       "      <td>2024-04-18</td>\n",
       "      <td>0.700</td>\n",
       "      <td>0.763</td>\n",
       "      <td>...</td>\n",
       "      <td>0</td>\n",
       "      <td>0</td>\n",
       "      <td>0</td>\n",
       "      <td>0</td>\n",
       "      <td>0</td>\n",
       "      <td>0</td>\n",
       "      <td>0</td>\n",
       "      <td>0</td>\n",
       "      <td>0</td>\n",
       "      <td>0</td>\n",
       "    </tr>\n",
       "  </tbody>\n",
       "</table>\n",
       "<p>5 rows × 95 columns</p>\n",
       "</div>"
      ],
      "text/plain": [
       "   daily_rank  daily_movement  weekly_movement snapshot_date  popularity  \\\n",
       "0           1              49               49    2024-04-25          90   \n",
       "1           2              48               -1    2024-04-25         100   \n",
       "2           3              47                4    2024-04-25          92   \n",
       "3           4              46               -1    2024-04-25          98   \n",
       "4           5              45               45    2024-04-25          84   \n",
       "\n",
       "   is_explicit  duration_ms album_release_date  danceability  energy  ...  \\\n",
       "0        False       228965         2024-04-18         0.675   0.397  ...   \n",
       "1        False       142514         2024-03-19         0.599   0.946  ...   \n",
       "2         True       175459         2024-04-12         0.701   0.771  ...   \n",
       "3         True       222000         2024-02-02         0.791   0.499  ...   \n",
       "4         True       218004         2024-04-18         0.700   0.763  ...   \n",
       "\n",
       "   CTRY_SV  CTRY_TH  CTRY_TR  CTRY_TW  CTRY_UA  CTRY_US  CTRY_UY  CTRY_VE  \\\n",
       "0        0        0        0        0        0        0        0        0   \n",
       "1        0        0        0        0        0        0        0        0   \n",
       "2        0        0        0        0        0        0        0        0   \n",
       "3        0        0        0        0        0        0        0        0   \n",
       "4        0        0        0        0        0        0        0        0   \n",
       "\n",
       "   CTRY_VN  CTRY_ZA  \n",
       "0        0        0  \n",
       "1        0        0  \n",
       "2        0        0  \n",
       "3        0        0  \n",
       "4        0        0  \n",
       "\n",
       "[5 rows x 95 columns]"
      ]
     },
     "execution_count": 4,
     "metadata": {},
     "output_type": "execute_result"
    }
   ],
   "source": [
    "songs = pd.read_csv('Documents\\GitHub\\CAPSTONE2\\data\\songs_data_afterEDA.csv', index_col = 0)\n",
    "songs.head()"
   ]
  },
  {
   "cell_type": "code",
   "execution_count": 5,
   "id": "ac35c074-f0b8-4b89-a726-8b42fed4b00f",
   "metadata": {},
   "outputs": [
    {
     "data": {
      "text/plain": [
       "Index(['daily_rank', 'daily_movement', 'weekly_movement', 'snapshot_date',\n",
       "       'popularity', 'is_explicit', 'duration_ms', 'album_release_date',\n",
       "       'danceability', 'energy', 'key', 'mode', 'speechiness', 'acousticness',\n",
       "       'instrumentalness', 'liveness', 'valence', 'tempo', 'time_signature',\n",
       "       'top_5', 'GDP', 'CPI', 'CTRY_AE', 'CTRY_AR', 'CTRY_AT', 'CTRY_AU',\n",
       "       'CTRY_BE', 'CTRY_BG', 'CTRY_BO', 'CTRY_BR', 'CTRY_BY', 'CTRY_CA',\n",
       "       'CTRY_CH', 'CTRY_CL', 'CTRY_CO', 'CTRY_CR', 'CTRY_CZ', 'CTRY_DE',\n",
       "       'CTRY_DK', 'CTRY_DO', 'CTRY_EC', 'CTRY_EE', 'CTRY_EG', 'CTRY_ES',\n",
       "       'CTRY_FI', 'CTRY_FR', 'CTRY_GB', 'CTRY_GR', 'CTRY_GT', 'CTRY_Global',\n",
       "       'CTRY_HK', 'CTRY_HN', 'CTRY_HU', 'CTRY_ID', 'CTRY_IE', 'CTRY_IL',\n",
       "       'CTRY_IN', 'CTRY_IS', 'CTRY_IT', 'CTRY_JP', 'CTRY_KR', 'CTRY_KZ',\n",
       "       'CTRY_LT', 'CTRY_LU', 'CTRY_LV', 'CTRY_MA', 'CTRY_MX', 'CTRY_MY',\n",
       "       'CTRY_NG', 'CTRY_NI', 'CTRY_NL', 'CTRY_NO', 'CTRY_NZ', 'CTRY_PA',\n",
       "       'CTRY_PE', 'CTRY_PH', 'CTRY_PK', 'CTRY_PL', 'CTRY_PT', 'CTRY_PY',\n",
       "       'CTRY_RO', 'CTRY_SA', 'CTRY_SE', 'CTRY_SG', 'CTRY_SK', 'CTRY_SV',\n",
       "       'CTRY_TH', 'CTRY_TR', 'CTRY_TW', 'CTRY_UA', 'CTRY_US', 'CTRY_UY',\n",
       "       'CTRY_VE', 'CTRY_VN', 'CTRY_ZA'],\n",
       "      dtype='object')"
      ]
     },
     "execution_count": 5,
     "metadata": {},
     "output_type": "execute_result"
    }
   ],
   "source": [
    "songs.columns"
   ]
  },
  {
   "cell_type": "code",
   "execution_count": 6,
   "id": "15db2422-1bbe-4f16-9f53-510a5adb9322",
   "metadata": {},
   "outputs": [
    {
     "data": {
      "text/html": [
       "<div>\n",
       "<style scoped>\n",
       "    .dataframe tbody tr th:only-of-type {\n",
       "        vertical-align: middle;\n",
       "    }\n",
       "\n",
       "    .dataframe tbody tr th {\n",
       "        vertical-align: top;\n",
       "    }\n",
       "\n",
       "    .dataframe thead th {\n",
       "        text-align: right;\n",
       "    }\n",
       "</style>\n",
       "<table border=\"1\" class=\"dataframe\">\n",
       "  <thead>\n",
       "    <tr style=\"text-align: right;\">\n",
       "      <th></th>\n",
       "      <th>Type</th>\n",
       "    </tr>\n",
       "  </thead>\n",
       "  <tbody>\n",
       "    <tr>\n",
       "      <th>daily_rank</th>\n",
       "      <td>int64</td>\n",
       "    </tr>\n",
       "    <tr>\n",
       "      <th>daily_movement</th>\n",
       "      <td>int64</td>\n",
       "    </tr>\n",
       "    <tr>\n",
       "      <th>weekly_movement</th>\n",
       "      <td>int64</td>\n",
       "    </tr>\n",
       "    <tr>\n",
       "      <th>snapshot_date</th>\n",
       "      <td>object</td>\n",
       "    </tr>\n",
       "    <tr>\n",
       "      <th>popularity</th>\n",
       "      <td>int64</td>\n",
       "    </tr>\n",
       "  </tbody>\n",
       "</table>\n",
       "</div>"
      ],
      "text/plain": [
       "                   Type\n",
       "daily_rank        int64\n",
       "daily_movement    int64\n",
       "weekly_movement   int64\n",
       "snapshot_date    object\n",
       "popularity        int64"
      ]
     },
     "execution_count": 6,
     "metadata": {},
     "output_type": "execute_result"
    }
   ],
   "source": [
    "col_info = pd.DataFrame(data = {'Type':songs.dtypes}, index = songs.columns )\n",
    "col_info.head()"
   ]
  },
  {
   "cell_type": "code",
   "execution_count": 7,
   "id": "de0b12e0-7492-4876-a537-a6214f6030b9",
   "metadata": {},
   "outputs": [
    {
     "data": {
      "text/plain": [
       "Type   \n",
       "int64      81\n",
       "float64    10\n",
       "bool        2\n",
       "object      2\n",
       "Name: count, dtype: int64"
      ]
     },
     "execution_count": 7,
     "metadata": {},
     "output_type": "execute_result"
    }
   ],
   "source": [
    "col_info.value_counts()"
   ]
  },
  {
   "cell_type": "code",
   "execution_count": 8,
   "id": "fd590538-9708-4f81-ba21-ed84b8e233c6",
   "metadata": {},
   "outputs": [
    {
     "data": {
      "text/html": [
       "<div>\n",
       "<style scoped>\n",
       "    .dataframe tbody tr th:only-of-type {\n",
       "        vertical-align: middle;\n",
       "    }\n",
       "\n",
       "    .dataframe tbody tr th {\n",
       "        vertical-align: top;\n",
       "    }\n",
       "\n",
       "    .dataframe thead th {\n",
       "        text-align: right;\n",
       "    }\n",
       "</style>\n",
       "<table border=\"1\" class=\"dataframe\">\n",
       "  <thead>\n",
       "    <tr style=\"text-align: right;\">\n",
       "      <th></th>\n",
       "      <th>Type</th>\n",
       "    </tr>\n",
       "  </thead>\n",
       "  <tbody>\n",
       "    <tr>\n",
       "      <th>snapshot_date</th>\n",
       "      <td>object</td>\n",
       "    </tr>\n",
       "    <tr>\n",
       "      <th>album_release_date</th>\n",
       "      <td>object</td>\n",
       "    </tr>\n",
       "  </tbody>\n",
       "</table>\n",
       "</div>"
      ],
      "text/plain": [
       "                      Type\n",
       "snapshot_date       object\n",
       "album_release_date  object"
      ]
     },
     "execution_count": 8,
     "metadata": {},
     "output_type": "execute_result"
    }
   ],
   "source": [
    "col_info[col_info['Type']=='object']"
   ]
  },
  {
   "cell_type": "markdown",
   "id": "03bd85c3-522d-47ba-9988-96058f88b4f2",
   "metadata": {},
   "source": [
    "As we can see, we need to update the snapshot_date and album_release_date to be date objects and then lets create a numeric feature we can use for our analysis:"
   ]
  },
  {
   "cell_type": "code",
   "execution_count": 9,
   "id": "1c7ee89a-f0f7-4f95-86f7-a6520115ec0b",
   "metadata": {},
   "outputs": [],
   "source": [
    "#first we update the columns needed to datetime\n",
    "songs['snapshot_date'] = pd.to_datetime(songs['snapshot_date'])\n",
    "songs['album_release_date'] = pd.to_datetime(songs['album_release_date'])\n"
   ]
  },
  {
   "cell_type": "code",
   "execution_count": 19,
   "id": "36a1d664-a5ed-42d3-b40f-a40d16c6eb12",
   "metadata": {},
   "outputs": [],
   "source": [
    "songs['days_since_relase'] = (songs['snapshot_date']-songs['album_release_date'])/np.timedelta64(1, 'D')"
   ]
  },
  {
   "cell_type": "code",
   "execution_count": 21,
   "id": "12ec7627-fd39-4df3-a7b0-522593675ddb",
   "metadata": {},
   "outputs": [],
   "source": [
    "songs.drop(columns = ['snapshot_date', 'album_release_date'], inplace=True)"
   ]
  },
  {
   "cell_type": "code",
   "execution_count": 22,
   "id": "74896259-9c92-4d4e-ae8b-e2f1547e8f41",
   "metadata": {},
   "outputs": [
    {
     "data": {
      "text/plain": [
       "Type   \n",
       "int64      81\n",
       "float64    11\n",
       "bool        2\n",
       "Name: count, dtype: int64"
      ]
     },
     "execution_count": 22,
     "metadata": {},
     "output_type": "execute_result"
    }
   ],
   "source": [
    "col_info = pd.DataFrame(data = {'Type':songs.dtypes}, index = songs.columns )\n",
    "col_info.value_counts()"
   ]
  },
  {
   "cell_type": "markdown",
   "id": "1746c186-9383-4b21-a8ff-e2f59075f3d2",
   "metadata": {},
   "source": [
    "As we can see, we no longer have any object or date variables but we do have 2 bool variables we need to investigate: "
   ]
  },
  {
   "cell_type": "code",
   "execution_count": 23,
   "id": "e776a8ca-29a0-44b9-a84b-721f1eb53cf6",
   "metadata": {},
   "outputs": [
    {
     "data": {
      "text/html": [
       "<div>\n",
       "<style scoped>\n",
       "    .dataframe tbody tr th:only-of-type {\n",
       "        vertical-align: middle;\n",
       "    }\n",
       "\n",
       "    .dataframe tbody tr th {\n",
       "        vertical-align: top;\n",
       "    }\n",
       "\n",
       "    .dataframe thead th {\n",
       "        text-align: right;\n",
       "    }\n",
       "</style>\n",
       "<table border=\"1\" class=\"dataframe\">\n",
       "  <thead>\n",
       "    <tr style=\"text-align: right;\">\n",
       "      <th></th>\n",
       "      <th>Type</th>\n",
       "    </tr>\n",
       "  </thead>\n",
       "  <tbody>\n",
       "    <tr>\n",
       "      <th>is_explicit</th>\n",
       "      <td>bool</td>\n",
       "    </tr>\n",
       "    <tr>\n",
       "      <th>top_5</th>\n",
       "      <td>bool</td>\n",
       "    </tr>\n",
       "  </tbody>\n",
       "</table>\n",
       "</div>"
      ],
      "text/plain": [
       "             Type\n",
       "is_explicit  bool\n",
       "top_5        bool"
      ]
     },
     "execution_count": 23,
     "metadata": {},
     "output_type": "execute_result"
    }
   ],
   "source": [
    "col_info[col_info['Type']=='bool']"
   ]
  },
  {
   "cell_type": "markdown",
   "id": "ef93e702-b80c-4209-8867-da6ae8f3fe09",
   "metadata": {},
   "source": [
    "the top_5 column has the information we want to predict and the 'is_explicit' column is part of the information we want to analize. In order to make all our columns numeric, we need to transform these bool to int64:"
   ]
  },
  {
   "cell_type": "code",
   "execution_count": 24,
   "id": "0103abaa-361c-4dfc-ac90-61eec2050946",
   "metadata": {},
   "outputs": [],
   "source": [
    "songs.is_explicit = songs.is_explicit.replace({True:1, False:0})\n",
    "songs.top_5 = songs.top_5.replace({True:1, False:0})"
   ]
  },
  {
   "cell_type": "code",
   "execution_count": 25,
   "id": "8558f153-f09c-44af-89b6-daef94dfd9fc",
   "metadata": {},
   "outputs": [
    {
     "data": {
      "text/plain": [
       "Type   \n",
       "int64      83\n",
       "float64    11\n",
       "Name: count, dtype: int64"
      ]
     },
     "execution_count": 25,
     "metadata": {},
     "output_type": "execute_result"
    }
   ],
   "source": [
    "col_info = pd.DataFrame(data = {'Type':songs.dtypes}, index = songs.columns )\n",
    "col_info.value_counts()"
   ]
  },
  {
   "cell_type": "markdown",
   "id": "3b4f3b69-3559-4e32-8fb6-cd0d28d4b8c6",
   "metadata": {},
   "source": [
    "Now that all our features are numeric, we can proceed with the next stage of our process. Dividing into test and train sets:\n",
    "\n",
    "<h3>Train/Test set split</h3>"
   ]
  },
  {
   "cell_type": "code",
   "execution_count": 26,
   "id": "6568e290-42a4-4651-b703-104c4cd48cab",
   "metadata": {},
   "outputs": [
    {
     "data": {
      "text/plain": [
       "(682853, 94)"
      ]
     },
     "execution_count": 26,
     "metadata": {},
     "output_type": "execute_result"
    }
   ],
   "source": [
    "songs.shape"
   ]
  },
  {
   "cell_type": "code",
   "execution_count": 27,
   "id": "570c3314-8f3c-4c0a-b7dd-c05afed91a32",
   "metadata": {},
   "outputs": [],
   "source": [
    "X_train, X_test, y_train, y_test = train_test_split(songs.drop(columns = 'top_5'), \n",
    "                                                    songs.top_5, test_size=0.3, \n",
    "                                                    random_state=123)"
   ]
  },
  {
   "cell_type": "code",
   "execution_count": 28,
   "id": "a42d94b4-ebd8-4acd-a5c4-f79260dfee4c",
   "metadata": {},
   "outputs": [
    {
     "name": "stdout",
     "output_type": "stream",
     "text": [
      "(477997, 93)\n",
      "(204856, 93)\n",
      "(477997,)\n",
      "(204856,)\n"
     ]
    }
   ],
   "source": [
    "print(X_train.shape)\n",
    "print(X_test.shape)\n",
    "print(y_train.shape)\n",
    "print(y_test.shape)"
   ]
  },
  {
   "cell_type": "code",
   "execution_count": 30,
   "id": "4f4b25c5-8ce4-438b-9552-496829ab562f",
   "metadata": {},
   "outputs": [],
   "source": [
    "scaler = StandardScaler()\n",
    "scaler.fit(X_train)\n",
    "X_train_scaled = scaler.transform(X_train)\n",
    "X_test_scaled = scaler.transform(X_test)"
   ]
  },
  {
   "cell_type": "markdown",
   "id": "47aabe8d-e95f-4945-83f4-3880922db9f1",
   "metadata": {},
   "source": [
    "Now that we have our training and test data properly split using a 30% of our data for testing, as well as our Test and Train data scaled using a StandardScaler trained on our train data, we can move on to the next stage of testing some models."
   ]
  }
 ],
 "metadata": {
  "kernelspec": {
   "display_name": "Python 3 (ipykernel)",
   "language": "python",
   "name": "python3"
  },
  "language_info": {
   "codemirror_mode": {
    "name": "ipython",
    "version": 3
   },
   "file_extension": ".py",
   "mimetype": "text/x-python",
   "name": "python",
   "nbconvert_exporter": "python",
   "pygments_lexer": "ipython3",
   "version": "3.11.7"
  }
 },
 "nbformat": 4,
 "nbformat_minor": 5
}
