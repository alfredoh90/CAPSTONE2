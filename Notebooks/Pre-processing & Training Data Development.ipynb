{
 "cells": [
  {
   "cell_type": "markdown",
   "id": "f26166f7-4bd5-4db9-8eed-d3b6c8ad648e",
   "metadata": {},
   "source": [
    "<h1>Pre-processing & Training Data Development</h1>\n",
    "\n",
    "This step in the data pre processing will concentrate on pre-processing and data training. The goal of this step is to normalize and standardize all the features in the dataset, as well as create a validation set.\n",
    "\n",
    "At the end of this stage we will have:\n",
    "- dummy variables for our categorical ones\n",
    "- standardized variables\n",
    "\n",
    "- a split of train and test data"
   ]
  },
  {
   "cell_type": "code",
   "execution_count": 1,
   "id": "e3063741-1785-4764-af38-f7e734d514a9",
   "metadata": {},
   "outputs": [],
   "source": [
    "# start by import necessary packages\n",
    "import pandas as pd\n",
    "import numpy as np\n",
    "import os\n",
    "import pickle\n",
    "import matplotlib.pyplot as plt\n",
    "import seaborn as sns\n",
    "from sklearn import __version__ as sklearn_version\n",
    "from sklearn.decomposition import PCA\n",
    "from sklearn.preprocessing import StandardScaler\n",
    "from sklearn.model_selection import train_test_split, cross_validate, GridSearchCV, learning_curve\n",
    "from sklearn.preprocessing import StandardScaler, MinMaxScaler\n",
    "from sklearn.dummy import DummyRegressor\n",
    "from sklearn.linear_model import LinearRegression\n",
    "from sklearn.ensemble import RandomForestRegressor\n",
    "from sklearn.metrics import r2_score, mean_squared_error, mean_absolute_error\n",
    "from sklearn.pipeline import make_pipeline\n",
    "from sklearn.impute import SimpleImputer\n",
    "from sklearn.feature_selection import SelectKBest, f_regression\n",
    "import datetime\n"
   ]
  },
  {
   "cell_type": "markdown",
   "id": "2f244cfa-ae90-456e-aafc-c3a7465fcefc",
   "metadata": {},
   "source": [
    "<h3> Loading the data</h3>\n",
    "We need to start by importing the data we have been using for this project."
   ]
  },
  {
   "cell_type": "code",
   "execution_count": 56,
   "id": "e07413e0-689e-41eb-800b-c57b1f2de8f7",
   "metadata": {},
   "outputs": [],
   "source": [
    "import os\n",
    "cwd = os.getcwd()"
   ]
  },
  {
   "cell_type": "code",
   "execution_count": 57,
   "id": "a5dc3f91-8cb7-4ab1-a768-9142162a631e",
   "metadata": {},
   "outputs": [
    {
     "name": "stdout",
     "output_type": "stream",
     "text": [
      "C:\\Users\\Alfredo\\Documents\\GitHub\\CAPSTONE2\\Notebooks\n"
     ]
    }
   ],
   "source": [
    "print(cwd)"
   ]
  },
  {
   "cell_type": "code",
   "execution_count": 58,
   "id": "6537e123-9148-42d1-95d2-e41c508d54ce",
   "metadata": {},
   "outputs": [
    {
     "data": {
      "text/html": [
       "<div>\n",
       "<style scoped>\n",
       "    .dataframe tbody tr th:only-of-type {\n",
       "        vertical-align: middle;\n",
       "    }\n",
       "\n",
       "    .dataframe tbody tr th {\n",
       "        vertical-align: top;\n",
       "    }\n",
       "\n",
       "    .dataframe thead th {\n",
       "        text-align: right;\n",
       "    }\n",
       "</style>\n",
       "<table border=\"1\" class=\"dataframe\">\n",
       "  <thead>\n",
       "    <tr style=\"text-align: right;\">\n",
       "      <th></th>\n",
       "      <th>spotify_id</th>\n",
       "      <th>name</th>\n",
       "      <th>daily_movement</th>\n",
       "      <th>weekly_movement</th>\n",
       "      <th>country</th>\n",
       "      <th>snapshot_date</th>\n",
       "      <th>popularity</th>\n",
       "      <th>is_explicit</th>\n",
       "      <th>duration_ms</th>\n",
       "      <th>album_release_date</th>\n",
       "      <th>...</th>\n",
       "      <th>hdi_Low</th>\n",
       "      <th>hdi_Medium</th>\n",
       "      <th>hdi_Very High</th>\n",
       "      <th>region_EAP</th>\n",
       "      <th>region_ECA</th>\n",
       "      <th>region_EU</th>\n",
       "      <th>region_GLB</th>\n",
       "      <th>region_LAC</th>\n",
       "      <th>region_SA</th>\n",
       "      <th>region_SSA</th>\n",
       "    </tr>\n",
       "  </thead>\n",
       "  <tbody>\n",
       "    <tr>\n",
       "      <th>0</th>\n",
       "      <td>2OzhQlSqBEmt7hmkYxfT6m</td>\n",
       "      <td>Fortnight (feat. Post Malone)</td>\n",
       "      <td>49</td>\n",
       "      <td>49</td>\n",
       "      <td>Global</td>\n",
       "      <td>2024-04-25</td>\n",
       "      <td>90</td>\n",
       "      <td>False</td>\n",
       "      <td>228965</td>\n",
       "      <td>2024-04-18</td>\n",
       "      <td>...</td>\n",
       "      <td>0</td>\n",
       "      <td>0</td>\n",
       "      <td>1</td>\n",
       "      <td>0</td>\n",
       "      <td>0</td>\n",
       "      <td>0</td>\n",
       "      <td>1</td>\n",
       "      <td>0</td>\n",
       "      <td>0</td>\n",
       "      <td>0</td>\n",
       "    </tr>\n",
       "    <tr>\n",
       "      <th>1</th>\n",
       "      <td>2GxrNKugF82CnoRFbQfzPf</td>\n",
       "      <td>i like the way you kiss me</td>\n",
       "      <td>48</td>\n",
       "      <td>-1</td>\n",
       "      <td>Global</td>\n",
       "      <td>2024-04-25</td>\n",
       "      <td>100</td>\n",
       "      <td>False</td>\n",
       "      <td>142514</td>\n",
       "      <td>2024-03-19</td>\n",
       "      <td>...</td>\n",
       "      <td>0</td>\n",
       "      <td>0</td>\n",
       "      <td>1</td>\n",
       "      <td>0</td>\n",
       "      <td>0</td>\n",
       "      <td>0</td>\n",
       "      <td>1</td>\n",
       "      <td>0</td>\n",
       "      <td>0</td>\n",
       "      <td>0</td>\n",
       "    </tr>\n",
       "    <tr>\n",
       "      <th>2</th>\n",
       "      <td>2qSkIjg1o9h3YT9RAgYN75</td>\n",
       "      <td>Espresso</td>\n",
       "      <td>47</td>\n",
       "      <td>4</td>\n",
       "      <td>Global</td>\n",
       "      <td>2024-04-25</td>\n",
       "      <td>92</td>\n",
       "      <td>True</td>\n",
       "      <td>175459</td>\n",
       "      <td>2024-04-12</td>\n",
       "      <td>...</td>\n",
       "      <td>0</td>\n",
       "      <td>0</td>\n",
       "      <td>1</td>\n",
       "      <td>0</td>\n",
       "      <td>0</td>\n",
       "      <td>0</td>\n",
       "      <td>1</td>\n",
       "      <td>0</td>\n",
       "      <td>0</td>\n",
       "      <td>0</td>\n",
       "    </tr>\n",
       "    <tr>\n",
       "      <th>3</th>\n",
       "      <td>6XjDF6nds4DE2BBbagZol6</td>\n",
       "      <td>Gata Only</td>\n",
       "      <td>46</td>\n",
       "      <td>-1</td>\n",
       "      <td>Global</td>\n",
       "      <td>2024-04-25</td>\n",
       "      <td>98</td>\n",
       "      <td>True</td>\n",
       "      <td>222000</td>\n",
       "      <td>2024-02-02</td>\n",
       "      <td>...</td>\n",
       "      <td>0</td>\n",
       "      <td>0</td>\n",
       "      <td>1</td>\n",
       "      <td>0</td>\n",
       "      <td>0</td>\n",
       "      <td>0</td>\n",
       "      <td>1</td>\n",
       "      <td>0</td>\n",
       "      <td>0</td>\n",
       "      <td>0</td>\n",
       "    </tr>\n",
       "    <tr>\n",
       "      <th>4</th>\n",
       "      <td>4q5YezDOIPcoLr8R81x9qy</td>\n",
       "      <td>I Can Do It With a Broken Heart</td>\n",
       "      <td>45</td>\n",
       "      <td>45</td>\n",
       "      <td>Global</td>\n",
       "      <td>2024-04-25</td>\n",
       "      <td>84</td>\n",
       "      <td>True</td>\n",
       "      <td>218004</td>\n",
       "      <td>2024-04-18</td>\n",
       "      <td>...</td>\n",
       "      <td>0</td>\n",
       "      <td>0</td>\n",
       "      <td>1</td>\n",
       "      <td>0</td>\n",
       "      <td>0</td>\n",
       "      <td>0</td>\n",
       "      <td>1</td>\n",
       "      <td>0</td>\n",
       "      <td>0</td>\n",
       "      <td>0</td>\n",
       "    </tr>\n",
       "  </tbody>\n",
       "</table>\n",
       "<p>5 rows × 51 columns</p>\n",
       "</div>"
      ],
      "text/plain": [
       "               spotify_id                             name  daily_movement  \\\n",
       "0  2OzhQlSqBEmt7hmkYxfT6m    Fortnight (feat. Post Malone)              49   \n",
       "1  2GxrNKugF82CnoRFbQfzPf       i like the way you kiss me              48   \n",
       "2  2qSkIjg1o9h3YT9RAgYN75                         Espresso              47   \n",
       "3  6XjDF6nds4DE2BBbagZol6                        Gata Only              46   \n",
       "4  4q5YezDOIPcoLr8R81x9qy  I Can Do It With a Broken Heart              45   \n",
       "\n",
       "   weekly_movement country snapshot_date  popularity  is_explicit  \\\n",
       "0               49  Global    2024-04-25          90        False   \n",
       "1               -1  Global    2024-04-25         100        False   \n",
       "2                4  Global    2024-04-25          92         True   \n",
       "3               -1  Global    2024-04-25          98         True   \n",
       "4               45  Global    2024-04-25          84         True   \n",
       "\n",
       "   duration_ms album_release_date  ...  hdi_Low  hdi_Medium  hdi_Very High  \\\n",
       "0       228965         2024-04-18  ...        0           0              1   \n",
       "1       142514         2024-03-19  ...        0           0              1   \n",
       "2       175459         2024-04-12  ...        0           0              1   \n",
       "3       222000         2024-02-02  ...        0           0              1   \n",
       "4       218004         2024-04-18  ...        0           0              1   \n",
       "\n",
       "   region_EAP  region_ECA  region_EU  region_GLB  region_LAC  region_SA  \\\n",
       "0           0           0          0           1           0          0   \n",
       "1           0           0          0           1           0          0   \n",
       "2           0           0          0           1           0          0   \n",
       "3           0           0          0           1           0          0   \n",
       "4           0           0          0           1           0          0   \n",
       "\n",
       "   region_SSA  \n",
       "0           0  \n",
       "1           0  \n",
       "2           0  \n",
       "3           0  \n",
       "4           0  \n",
       "\n",
       "[5 rows x 51 columns]"
      ]
     },
     "execution_count": 58,
     "metadata": {},
     "output_type": "execute_result"
    }
   ],
   "source": [
    "songs = pd.read_csv('..\\data\\songs_data_afterEDA.csv', index_col = 0)\n",
    "songs.head()"
   ]
  },
  {
   "cell_type": "code",
   "execution_count": 59,
   "id": "ac35c074-f0b8-4b89-a726-8b42fed4b00f",
   "metadata": {},
   "outputs": [
    {
     "data": {
      "text/plain": [
       "Index(['spotify_id', 'name', 'daily_movement', 'weekly_movement', 'country',\n",
       "       'snapshot_date', 'popularity', 'is_explicit', 'duration_ms',\n",
       "       'album_release_date', 'danceability', 'energy', 'key', 'mode',\n",
       "       'speechiness', 'acousticness', 'instrumentalness', 'liveness',\n",
       "       'valence', 'tempo', 'time_signature', 'top_5', 'code_standard',\n",
       "       'child_mort', 'health', 'inflation', 'life_expec', 'total_fer', 'gdpp',\n",
       "       'hap_score', 'pop2021', 'chistians_p', 'muslims_p', 'unaffiliated_p',\n",
       "       'hindus_p', 'buddhists_p', 'folkReligions_p', 'other_p', 'jews_p',\n",
       "       'gnipc_2021', 'imp_exp_rate', 'hdi_Low', 'hdi_Medium', 'hdi_Very High',\n",
       "       'region_EAP', 'region_ECA', 'region_EU', 'region_GLB', 'region_LAC',\n",
       "       'region_SA', 'region_SSA'],\n",
       "      dtype='object')"
      ]
     },
     "execution_count": 59,
     "metadata": {},
     "output_type": "execute_result"
    }
   ],
   "source": [
    "songs.columns"
   ]
  },
  {
   "cell_type": "code",
   "execution_count": 60,
   "id": "15db2422-1bbe-4f16-9f53-510a5adb9322",
   "metadata": {},
   "outputs": [
    {
     "data": {
      "text/html": [
       "<div>\n",
       "<style scoped>\n",
       "    .dataframe tbody tr th:only-of-type {\n",
       "        vertical-align: middle;\n",
       "    }\n",
       "\n",
       "    .dataframe tbody tr th {\n",
       "        vertical-align: top;\n",
       "    }\n",
       "\n",
       "    .dataframe thead th {\n",
       "        text-align: right;\n",
       "    }\n",
       "</style>\n",
       "<table border=\"1\" class=\"dataframe\">\n",
       "  <thead>\n",
       "    <tr style=\"text-align: right;\">\n",
       "      <th></th>\n",
       "      <th>Type</th>\n",
       "    </tr>\n",
       "  </thead>\n",
       "  <tbody>\n",
       "    <tr>\n",
       "      <th>spotify_id</th>\n",
       "      <td>object</td>\n",
       "    </tr>\n",
       "    <tr>\n",
       "      <th>name</th>\n",
       "      <td>object</td>\n",
       "    </tr>\n",
       "    <tr>\n",
       "      <th>daily_movement</th>\n",
       "      <td>int64</td>\n",
       "    </tr>\n",
       "    <tr>\n",
       "      <th>weekly_movement</th>\n",
       "      <td>int64</td>\n",
       "    </tr>\n",
       "    <tr>\n",
       "      <th>country</th>\n",
       "      <td>object</td>\n",
       "    </tr>\n",
       "  </tbody>\n",
       "</table>\n",
       "</div>"
      ],
      "text/plain": [
       "                   Type\n",
       "spotify_id       object\n",
       "name             object\n",
       "daily_movement    int64\n",
       "weekly_movement   int64\n",
       "country          object"
      ]
     },
     "execution_count": 60,
     "metadata": {},
     "output_type": "execute_result"
    }
   ],
   "source": [
    "col_info = pd.DataFrame(data = {'Type':songs.dtypes}, index = songs.columns )\n",
    "col_info.head()"
   ]
  },
  {
   "cell_type": "code",
   "execution_count": 61,
   "id": "de0b12e0-7492-4876-a537-a6214f6030b9",
   "metadata": {},
   "outputs": [
    {
     "data": {
      "text/plain": [
       "Type   \n",
       "float64    26\n",
       "int64      17\n",
       "object      6\n",
       "bool        2\n",
       "Name: count, dtype: int64"
      ]
     },
     "execution_count": 61,
     "metadata": {},
     "output_type": "execute_result"
    }
   ],
   "source": [
    "col_info.value_counts()"
   ]
  },
  {
   "cell_type": "code",
   "execution_count": 62,
   "id": "fd590538-9708-4f81-ba21-ed84b8e233c6",
   "metadata": {},
   "outputs": [
    {
     "data": {
      "text/html": [
       "<div>\n",
       "<style scoped>\n",
       "    .dataframe tbody tr th:only-of-type {\n",
       "        vertical-align: middle;\n",
       "    }\n",
       "\n",
       "    .dataframe tbody tr th {\n",
       "        vertical-align: top;\n",
       "    }\n",
       "\n",
       "    .dataframe thead th {\n",
       "        text-align: right;\n",
       "    }\n",
       "</style>\n",
       "<table border=\"1\" class=\"dataframe\">\n",
       "  <thead>\n",
       "    <tr style=\"text-align: right;\">\n",
       "      <th></th>\n",
       "      <th>Type</th>\n",
       "    </tr>\n",
       "  </thead>\n",
       "  <tbody>\n",
       "    <tr>\n",
       "      <th>spotify_id</th>\n",
       "      <td>object</td>\n",
       "    </tr>\n",
       "    <tr>\n",
       "      <th>name</th>\n",
       "      <td>object</td>\n",
       "    </tr>\n",
       "    <tr>\n",
       "      <th>country</th>\n",
       "      <td>object</td>\n",
       "    </tr>\n",
       "    <tr>\n",
       "      <th>snapshot_date</th>\n",
       "      <td>object</td>\n",
       "    </tr>\n",
       "    <tr>\n",
       "      <th>album_release_date</th>\n",
       "      <td>object</td>\n",
       "    </tr>\n",
       "    <tr>\n",
       "      <th>code_standard</th>\n",
       "      <td>object</td>\n",
       "    </tr>\n",
       "  </tbody>\n",
       "</table>\n",
       "</div>"
      ],
      "text/plain": [
       "                      Type\n",
       "spotify_id          object\n",
       "name                object\n",
       "country             object\n",
       "snapshot_date       object\n",
       "album_release_date  object\n",
       "code_standard       object"
      ]
     },
     "execution_count": 62,
     "metadata": {},
     "output_type": "execute_result"
    }
   ],
   "source": [
    "col_info[col_info['Type']=='object']"
   ]
  },
  {
   "cell_type": "markdown",
   "id": "03bd85c3-522d-47ba-9988-96058f88b4f2",
   "metadata": {},
   "source": [
    "As we can see, we need to update the snapshot_date and album_release_date to be date objects and then lets create a numeric feature we can use for our analysis:"
   ]
  },
  {
   "cell_type": "code",
   "execution_count": 63,
   "id": "1c7ee89a-f0f7-4f95-86f7-a6520115ec0b",
   "metadata": {},
   "outputs": [],
   "source": [
    "#first we update the columns needed to datetime\n",
    "songs['snapshot_date'] = pd.to_datetime(songs['snapshot_date'])\n",
    "songs['album_release_date'] = pd.to_datetime(songs['album_release_date'])\n",
    "songs.drop(columns=['code_standard'], inplace=True)\n"
   ]
  },
  {
   "cell_type": "code",
   "execution_count": 64,
   "id": "36a1d664-a5ed-42d3-b40f-a40d16c6eb12",
   "metadata": {},
   "outputs": [],
   "source": [
    "songs['days_since_relase'] = (songs['snapshot_date']-songs['album_release_date'])/np.timedelta64(1, 'D')"
   ]
  },
  {
   "cell_type": "code",
   "execution_count": 65,
   "id": "12ec7627-fd39-4df3-a7b0-522593675ddb",
   "metadata": {},
   "outputs": [],
   "source": [
    "songs.drop(columns = ['snapshot_date', 'album_release_date'], inplace=True)"
   ]
  },
  {
   "cell_type": "code",
   "execution_count": 66,
   "id": "74896259-9c92-4d4e-ae8b-e2f1547e8f41",
   "metadata": {},
   "outputs": [
    {
     "data": {
      "text/plain": [
       "Type   \n",
       "float64    27\n",
       "int64      17\n",
       "object      3\n",
       "bool        2\n",
       "Name: count, dtype: int64"
      ]
     },
     "execution_count": 66,
     "metadata": {},
     "output_type": "execute_result"
    }
   ],
   "source": [
    "col_info = pd.DataFrame(data = {'Type':songs.dtypes}, index = songs.columns )\n",
    "col_info.value_counts()"
   ]
  },
  {
   "cell_type": "markdown",
   "id": "1746c186-9383-4b21-a8ff-e2f59075f3d2",
   "metadata": {},
   "source": [
    "As we can see, we no longer have any object (other than the columns we will keep separate from the set) or date variables but we do have 2 bool variables we need to investigate: "
   ]
  },
  {
   "cell_type": "code",
   "execution_count": 67,
   "id": "e776a8ca-29a0-44b9-a84b-721f1eb53cf6",
   "metadata": {},
   "outputs": [
    {
     "data": {
      "text/html": [
       "<div>\n",
       "<style scoped>\n",
       "    .dataframe tbody tr th:only-of-type {\n",
       "        vertical-align: middle;\n",
       "    }\n",
       "\n",
       "    .dataframe tbody tr th {\n",
       "        vertical-align: top;\n",
       "    }\n",
       "\n",
       "    .dataframe thead th {\n",
       "        text-align: right;\n",
       "    }\n",
       "</style>\n",
       "<table border=\"1\" class=\"dataframe\">\n",
       "  <thead>\n",
       "    <tr style=\"text-align: right;\">\n",
       "      <th></th>\n",
       "      <th>Type</th>\n",
       "    </tr>\n",
       "  </thead>\n",
       "  <tbody>\n",
       "    <tr>\n",
       "      <th>is_explicit</th>\n",
       "      <td>bool</td>\n",
       "    </tr>\n",
       "    <tr>\n",
       "      <th>top_5</th>\n",
       "      <td>bool</td>\n",
       "    </tr>\n",
       "  </tbody>\n",
       "</table>\n",
       "</div>"
      ],
      "text/plain": [
       "             Type\n",
       "is_explicit  bool\n",
       "top_5        bool"
      ]
     },
     "execution_count": 67,
     "metadata": {},
     "output_type": "execute_result"
    }
   ],
   "source": [
    "col_info[col_info['Type']=='bool']"
   ]
  },
  {
   "cell_type": "markdown",
   "id": "ef93e702-b80c-4209-8867-da6ae8f3fe09",
   "metadata": {},
   "source": [
    "the top_5 column has the information we want to predict and the 'is_explicit' column is part of the information we want to analize. In order to make all our columns numeric, we need to transform these bool to int64:"
   ]
  },
  {
   "cell_type": "code",
   "execution_count": 68,
   "id": "0103abaa-361c-4dfc-ac90-61eec2050946",
   "metadata": {},
   "outputs": [],
   "source": [
    "songs.is_explicit = songs.is_explicit.replace({True:1, False:0})\n",
    "songs.top_5 = songs.top_5.replace({True:1, False:0})"
   ]
  },
  {
   "cell_type": "code",
   "execution_count": 69,
   "id": "8558f153-f09c-44af-89b6-daef94dfd9fc",
   "metadata": {},
   "outputs": [
    {
     "data": {
      "text/plain": [
       "Type   \n",
       "float64    27\n",
       "int64      19\n",
       "object      3\n",
       "Name: count, dtype: int64"
      ]
     },
     "execution_count": 69,
     "metadata": {},
     "output_type": "execute_result"
    }
   ],
   "source": [
    "col_info = pd.DataFrame(data = {'Type':songs.dtypes}, index = songs.columns )\n",
    "col_info.value_counts()"
   ]
  },
  {
   "cell_type": "markdown",
   "id": "3b4f3b69-3559-4e32-8fb6-cd0d28d4b8c6",
   "metadata": {},
   "source": [
    "Now that all our features are numeric, we can proceed with the next stage of our process. Dividing into test and train sets:\n",
    "\n",
    "<h3>Train/Test set split</h3>"
   ]
  },
  {
   "cell_type": "code",
   "execution_count": 70,
   "id": "6568e290-42a4-4651-b703-104c4cd48cab",
   "metadata": {},
   "outputs": [
    {
     "data": {
      "text/plain": [
       "(635600, 49)"
      ]
     },
     "execution_count": 70,
     "metadata": {},
     "output_type": "execute_result"
    }
   ],
   "source": [
    "songs.shape"
   ]
  },
  {
   "cell_type": "code",
   "execution_count": 71,
   "id": "70950892-1856-43fd-bb02-22e845bb671e",
   "metadata": {},
   "outputs": [
    {
     "data": {
      "text/plain": [
       "0.10016991818753933"
      ]
     },
     "execution_count": 71,
     "metadata": {},
     "output_type": "execute_result"
    }
   ],
   "source": [
    "#calculate the positive rate first:\n",
    "songs.top_5.sum()/len(songs)"
   ]
  },
  {
   "cell_type": "code",
   "execution_count": 72,
   "id": "570c3314-8f3c-4c0a-b7dd-c05afed91a32",
   "metadata": {},
   "outputs": [],
   "source": [
    "X_train, X_test, y_train, y_test = train_test_split(songs.drop(columns = 'top_5'), \n",
    "                                                    songs.top_5, test_size=0.3, stratify = songs.top_5,\n",
    "                                                    random_state=123)"
   ]
  },
  {
   "cell_type": "code",
   "execution_count": 73,
   "id": "a42d94b4-ebd8-4acd-a5c4-f79260dfee4c",
   "metadata": {},
   "outputs": [
    {
     "name": "stdout",
     "output_type": "stream",
     "text": [
      "(444920, 48)\n",
      "(190680, 48)\n",
      "(444920,)\n",
      "(190680,)\n"
     ]
    }
   ],
   "source": [
    "#verify sizes for test/train sets\n",
    "print(X_train.shape)\n",
    "print(X_test.shape)\n",
    "print(y_train.shape)\n",
    "print(y_test.shape)"
   ]
  },
  {
   "cell_type": "code",
   "execution_count": 74,
   "id": "7cba3041-8dfd-45f4-9034-7326126bce5f",
   "metadata": {},
   "outputs": [
    {
     "name": "stdout",
     "output_type": "stream",
     "text": [
      "0.10017081722556864\n",
      "0.10016782043213761\n"
     ]
    }
   ],
   "source": [
    "#verify rates are the same for test/train sets\n",
    "print(y_train.sum()/len(y_train))\n",
    "print(y_test.sum()/len(y_test))"
   ]
  },
  {
   "cell_type": "code",
   "execution_count": 75,
   "id": "6d00ddde-11ac-4e6d-bda4-db6e1dfcffa6",
   "metadata": {},
   "outputs": [],
   "source": [
    "#First lets save the last object variables and drop them from the train and test set\n",
    "X_train_ids = X_train[['spotify_id', 'name', 'country']]\n",
    "X_train = X_train.drop(columns=['spotify_id', 'name', 'country'])\n",
    "\n",
    "X_test_ids = X_test[['spotify_id', 'name', 'country']]\n",
    "X_test = X_test.drop(columns=['spotify_id', 'name', 'country'])"
   ]
  },
  {
   "cell_type": "code",
   "execution_count": 76,
   "id": "6aaf94c7-ca6b-4cdb-b3c3-8c1b1ebb0b11",
   "metadata": {},
   "outputs": [
    {
     "data": {
      "text/plain": [
       "Type   \n",
       "float64    27\n",
       "int64      18\n",
       "Name: count, dtype: int64"
      ]
     },
     "execution_count": 76,
     "metadata": {},
     "output_type": "execute_result"
    }
   ],
   "source": [
    "#lets confirm the data types left on the train set\n",
    "col_info = pd.DataFrame(data = {'Type':X_train.dtypes}, index = X_train.columns )\n",
    "col_info.value_counts()"
   ]
  },
  {
   "cell_type": "code",
   "execution_count": 77,
   "id": "4f4b25c5-8ce4-438b-9552-496829ab562f",
   "metadata": {},
   "outputs": [],
   "source": [
    "#Now we can use the standard scaler\n",
    "scaler = StandardScaler()\n",
    "scaler.fit(X_train)\n",
    "X_train_scaled = scaler.transform(X_train)\n",
    "X_test_scaled = scaler.transform(X_test)"
   ]
  },
  {
   "cell_type": "markdown",
   "id": "47aabe8d-e95f-4945-83f4-3880922db9f1",
   "metadata": {},
   "source": [
    "Now that we have our training and test data properly split using a 30% of our data for testing, as well as our Test and Train data scaled using a StandardScaler trained on our train data, we can move on to the next stage of testing some models."
   ]
  },
  {
   "cell_type": "code",
   "execution_count": 78,
   "id": "7164f0bf-c548-4147-903f-ac69bf22c72d",
   "metadata": {},
   "outputs": [],
   "source": [
    "# save the id data to a new csv file`\n",
    "X_train_ids.to_csv('../data/train_test/train_ids.csv')\n",
    "X_test_ids.to_csv('../data/train_test/test_ids.csv')"
   ]
  },
  {
   "cell_type": "code",
   "execution_count": 79,
   "id": "393c8e87-397c-468a-8884-a25879fcc668",
   "metadata": {},
   "outputs": [],
   "source": [
    "np.save('../data/train_test/xtrain.npy', X_train_scaled)\n",
    "np.save('../data/train_test/xtest.npy', X_test_scaled)\n",
    "np.save('../data/train_test/ytrain.npy', y_train)\n",
    "np.save('../data/train_test/ytest.npy', y_test)"
   ]
  },
  {
   "cell_type": "code",
   "execution_count": 85,
   "id": "ff1486da-b299-4b1f-886a-e8a0d60c8193",
   "metadata": {},
   "outputs": [],
   "source": [
    "np.save('../data/train_test/xcolumns.npy', np.array(X_train.columns))"
   ]
  },
  {
   "cell_type": "code",
   "execution_count": null,
   "id": "eb8def51-4ce2-4a03-91fb-d96db41db692",
   "metadata": {},
   "outputs": [],
   "source": []
  }
 ],
 "metadata": {
  "kernelspec": {
   "display_name": "Python 3",
   "language": "python",
   "name": "python3"
  },
  "language_info": {
   "codemirror_mode": {
    "name": "ipython",
    "version": 3
   },
   "file_extension": ".py",
   "mimetype": "text/x-python",
   "name": "python",
   "nbconvert_exporter": "python",
   "pygments_lexer": "ipython3",
   "version": "3.11.7"
  }
 },
 "nbformat": 4,
 "nbformat_minor": 5
}
