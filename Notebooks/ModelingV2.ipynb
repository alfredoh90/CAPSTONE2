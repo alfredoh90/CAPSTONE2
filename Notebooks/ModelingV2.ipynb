{
 "cells": [
  {
   "cell_type": "markdown",
   "id": "4c96434b-6474-4ae7-b402-93464103a14d",
   "metadata": {},
   "source": [
    "<h1>Data Modeling</h1>\n",
    "\n",
    "The first thing we need to do is import all the necessary packages and the train/test data previously scaled and ready to model."
   ]
  },
  {
   "cell_type": "code",
   "execution_count": 1,
   "id": "0f4f9c8f-b055-4e47-8731-c8da39625393",
   "metadata": {},
   "outputs": [],
   "source": [
    "# start by import necessary packages\n",
    "import pandas as pd\n",
    "import numpy as np\n",
    "import os\n",
    "import pickle\n",
    "import matplotlib.pyplot as plt\n",
    "import seaborn as sns\n",
    "from sklearn import __version__ as sklearn_version\n",
    "from sklearn.decomposition import PCA\n",
    "from sklearn.preprocessing import StandardScaler\n",
    "from sklearn.model_selection import train_test_split, cross_validate, GridSearchCV, learning_curve\n",
    "from sklearn.preprocessing import StandardScaler, MinMaxScaler\n",
    "from sklearn.dummy import DummyRegressor\n",
    "from sklearn.linear_model import LinearRegression\n",
    "from sklearn.ensemble import RandomForestRegressor\n",
    "from sklearn import metrics\n",
    "from sklearn.pipeline import make_pipeline\n",
    "from sklearn.impute import SimpleImputer\n",
    "from sklearn.feature_selection import SelectKBest, f_regression\n",
    "import datetime"
   ]
  },
  {
   "cell_type": "code",
   "execution_count": 2,
   "id": "ee8e5460-f339-4cf7-8b36-5afdb1899373",
   "metadata": {},
   "outputs": [],
   "source": [
    "import random \n",
    "random.seed(123)"
   ]
  },
  {
   "cell_type": "code",
   "execution_count": 3,
   "id": "e1646a01-b42e-4a6f-b30d-183ba52d22aa",
   "metadata": {},
   "outputs": [],
   "source": [
    "#load the train/test sets saved\n",
    "X_train = np.load('../data/train_test/xtrainV2.npy')\n",
    "X_test = np.load('../data/train_test/xtestV2.npy')\n",
    "y_train = np.load('../data/train_test/ytrainV2.npy')\n",
    "y_test = np.load('../data/train_test/ytestV2.npy')"
   ]
  },
  {
   "cell_type": "code",
   "execution_count": 4,
   "id": "b2c9f20a-10cf-4bd6-95e8-77db5cdb8336",
   "metadata": {},
   "outputs": [],
   "source": [
    "X_train_ids = pd.read_csv('../data/train_test/train_idsV2.csv', index_col = 0)\n",
    "X_test_ids = pd.read_csv('../data/train_test/test_idsV2.csv', index_col = 0)"
   ]
  },
  {
   "cell_type": "markdown",
   "id": "96adaa67-92a9-4ed1-a499-8f270c52192e",
   "metadata": {},
   "source": [
    "<h2>Testing Different Models:</h2>\n",
    "\n",
    "<h3>Metrics</h3>\n",
    "Before we begin with our model selection, we are going to need to decide the metrics we will use to identify our best model.\n",
    "\n",
    "In terms of metrics, we are going to consider:\n",
    "<ul>\n",
    "    <li>Accuracy and balanced accuracy</li>\n",
    "    <li>Precision for top_5 as well as not_top_5</li>\n",
    "    <li>Recall for top_5 as well as not_top_5</li>\n",
    "</ul>\n",
    "\n",
    "In order to choose the ideal model we want to choose a model with good accuracy (balanced accuracy considering that our data is highly imbalanced), However we will use the model with the best recall because we want to minimize the rate of false negatives.\n",
    "\n",
    "Having selected the right metrics, lets do some basic modeling using 3 potentially good classification models:\n",
    "<ul>\n",
    "    <li>Constant</li>\n",
    "    <li>KNN</li>\n",
    "    <li>Logistic Regression</li>\n",
    "    <li>Random Forest</li>\n",
    "    <li>Gradient Boosting</li>\n",
    "</ul>\n",
    "\n",
    "<h3>Basic Model (constant)</h3>\n",
    "\n",
    "\n",
    "The first model we are going to compare is the constant for the current rate:"
   ]
  },
  {
   "cell_type": "code",
   "execution_count": 5,
   "id": "f065c083-b681-4973-91be-f65903ded5ea",
   "metadata": {},
   "outputs": [
    {
     "data": {
      "text/plain": [
       "0.10017081722556864"
      ]
     },
     "execution_count": 5,
     "metadata": {},
     "output_type": "execute_result"
    }
   ],
   "source": [
    "#calculate top_5 rate:\n",
    "sum(y_train)/len(y_train)"
   ]
  },
  {
   "cell_type": "markdown",
   "id": "19369581-4659-4837-93e1-f263b3eb9d9f",
   "metadata": {},
   "source": [
    "Considering that only 10% of the cases are in the top5, our simplest predictor could be saying all cases are not in the top_5:"
   ]
  },
  {
   "cell_type": "code",
   "execution_count": 6,
   "id": "54e9a6ad-b55b-4cdf-a581-499416c33d07",
   "metadata": {},
   "outputs": [],
   "source": [
    "#predicting which is an array of 0s\n",
    "y_pred_const = np.zeros(len(y_test))"
   ]
  },
  {
   "cell_type": "code",
   "execution_count": 7,
   "id": "edf8a4d7-1e2f-4a29-9c46-fde24a75e482",
   "metadata": {},
   "outputs": [
    {
     "name": "stdout",
     "output_type": "stream",
     "text": [
      "Model constant\n",
      "Accuracy: 0.900\n",
      "Balanced accuracy: 0.500\n",
      "Precision score for \"Yes\":  0.000\n"
     ]
    },
    {
     "name": "stderr",
     "output_type": "stream",
     "text": [
      "C:\\ProgramData\\anaconda3\\Lib\\site-packages\\sklearn\\metrics\\_classification.py:1344: UndefinedMetricWarning: Precision is ill-defined and being set to 0.0 due to no predicted samples. Use `zero_division` parameter to control this behavior.\n",
      "  _warn_prf(average, modifier, msg_start, len(result))\n"
     ]
    },
    {
     "name": "stdout",
     "output_type": "stream",
     "text": [
      "Precision score for \"No\": 0.900\n",
      "Recall score for \"Yes\": 0.000\n",
      "Recall score for \"No\": 1.000\n",
      "F1 score: 0.000\n"
     ]
    }
   ],
   "source": [
    "#lets review the quality using the standard metrics:\n",
    "y_pred = y_pred_const\n",
    "print(\"Model constant\")\n",
    "print(\"Accuracy: %.3F\"%metrics.accuracy_score(y_test,y_pred))\n",
    "print(\"Balanced accuracy: %.3F\"%metrics.balanced_accuracy_score(y_test,y_pred))\n",
    "print('Precision score for \"Yes\":  %.3F'%metrics.precision_score(y_test,y_pred, pos_label = 1))\n",
    "print('Precision score for \"No\": %.3F'%metrics.precision_score(y_test,y_pred, pos_label=0))\n",
    "print('Recall score for \"Yes\": %.3F'%metrics.recall_score(y_test,y_pred, pos_label = 1))\n",
    "print('Recall score for \"No\": %.3F'%metrics.recall_score(y_test,y_pred, pos_label = 0))\n",
    "print('F1 score: %.3F'%metrics.f1_score(y_test,y_pred))"
   ]
  },
  {
   "cell_type": "markdown",
   "id": "80c7d906-0d6b-481a-880e-dc0d57d05b0f",
   "metadata": {},
   "source": [
    "As we can see, we have pretty good accuracy 90% but this is entirely driven by the unbalanced dataset. When we compare it with the balanced accuracy we get only 50% and a precision and recall of 0 for the prediction of positives (actual top_5). Now we can use these results as a base to compare to the new models:\n",
    "\n",
    "<h3>KNN classifier:</h3>"
   ]
  },
  {
   "cell_type": "code",
   "execution_count": 8,
   "id": "15a0a2ea-a349-4e17-b5fa-5a3cbf0fd279",
   "metadata": {},
   "outputs": [],
   "source": [
    "from sklearn.neighbors import KNeighborsClassifier\n",
    "\n",
    "knn = KNeighborsClassifier(5)\n",
    "knn.fit(X_train,y_train)\n",
    "y_pred_knn =knn.predict(X_test)"
   ]
  },
  {
   "cell_type": "code",
   "execution_count": 9,
   "id": "0b2c0c1c-bb68-403d-bc7f-7dda21efc814",
   "metadata": {},
   "outputs": [
    {
     "name": "stdout",
     "output_type": "stream",
     "text": [
      "Model KNN\n",
      "Accuracy: 0.976\n",
      "Balanced accuracy: 0.931\n",
      "Precision score for \"Yes\":  0.885\n",
      "Precision score for \"No\": 0.986\n",
      "Recall score for \"Yes\": 0.875\n",
      "Recall score for \"No\": 0.987\n",
      "F1 score: 0.880\n"
     ]
    },
    {
     "data": {
      "text/plain": [
       "<sklearn.metrics._plot.confusion_matrix.ConfusionMatrixDisplay at 0x224e8b3e490>"
      ]
     },
     "execution_count": 9,
     "metadata": {},
     "output_type": "execute_result"
    },
    {
     "data": {
      "image/png": "[encoded data removed]",
      "text/plain": [
       "<Figure size 640x480 with 2 Axes>"
      ]
     },
     "metadata": {},
     "output_type": "display_data"
    }
   ],
   "source": [
    "#lets review the quality using the standard metrics:\n",
    "y_pred = y_pred_knn\n",
    "print(\"Model KNN\")\n",
    "print(\"Accuracy: %.3F\"%metrics.accuracy_score(y_test,y_pred))\n",
    "print(\"Balanced accuracy: %.3F\"%metrics.balanced_accuracy_score(y_test,y_pred))\n",
    "print('Precision score for \"Yes\":  %.3F'%metrics.precision_score(y_test,y_pred, pos_label = 1))\n",
    "print('Precision score for \"No\": %.3F'%metrics.precision_score(y_test,y_pred, pos_label=0))\n",
    "print('Recall score for \"Yes\": %.3F'%metrics.recall_score(y_test,y_pred, pos_label = 1))\n",
    "print('Recall score for \"No\": %.3F'%metrics.recall_score(y_test,y_pred, pos_label = 0))\n",
    "print('F1 score: %.3F'%metrics.f1_score(y_test,y_pred))\n",
    "\n",
    "cm = metrics.confusion_matrix(y_test, y_pred, labels = knn.classes_)\n",
    "_, ax = plt.subplots()\n",
    "display_cm = metrics.ConfusionMatrixDisplay(confusion_matrix = cm, \n",
    "                                    display_labels = ['not_top_5', 'top_5'])\n",
    "ax.set_xticks([0, 1])\n",
    "ax.set_yticks([0, 1])\n",
    "ax.set_xticklabels(labels = ['not_top_5', 'top_5'], fontsize = 8)\n",
    "ax.set_yticklabels(labels = ['not_top_5', 'top_5'], fontsize = 8)\n",
    "display_cm.plot(ax = ax)"
   ]
  },
  {
   "cell_type": "markdown",
   "id": "09e6d444-fa2e-470a-af7c-834362a262e4",
   "metadata": {},
   "source": [
    "the results from this first model (KNN) are very promising with a balanced accuracy of 93%, a recall of 87.5% and F1 score of 0.88\n",
    "\n",
    "Next lets try a different model that could be potentially better suited for this problem.\n",
    "\n",
    "<h3>Logistic Regression</h3>"
   ]
  },
  {
   "cell_type": "code",
   "execution_count": 10,
   "id": "55bca021-707b-4f5b-8c04-190b4c05e08a",
   "metadata": {},
   "outputs": [],
   "source": [
    "from sklearn.linear_model import LogisticRegression\n",
    "#we will use the weights to make up for the imbalance of classes in this project\n",
    "weights = {0:10, 1:90} \n",
    "clf = LogisticRegression(solver = 'newton-cholesky', max_iter = 500, class_weight = weights)\n",
    "clf.fit(X_train, y_train) \n",
    "y_pred_lr = clf.predict(X_test)"
   ]
  },
  {
   "cell_type": "code",
   "execution_count": 11,
   "id": "9bedd0f6-8db0-4430-8fe8-2001aea1f6c3",
   "metadata": {},
   "outputs": [
    {
     "name": "stdout",
     "output_type": "stream",
     "text": [
      "Model Logistic Regression\n",
      "Accuracy: 0.574\n",
      "Balanced accuracy: 0.555\n",
      "Precision score for \"Yes\":  0.123\n",
      "Precision score for \"No\": 0.917\n",
      "Recall score for \"Yes\": 0.531\n",
      "Recall score for \"No\": 0.578\n",
      "F1 score: 0.200\n"
     ]
    },
    {
     "data": {
      "text/plain": [
       "<sklearn.metrics._plot.confusion_matrix.ConfusionMatrixDisplay at 0x224f11cd9d0>"
      ]
     },
     "execution_count": 11,
     "metadata": {},
     "output_type": "execute_result"
    },
    {
     "data": {
      "image/png": "[encoded data removed]",
      "text/plain": [
       "<Figure size 640x480 with 2 Axes>"
      ]
     },
     "metadata": {},
     "output_type": "display_data"
    }
   ],
   "source": [
    "#lets review the quality using the standard metrics:\n",
    "y_pred = y_pred_lr\n",
    "print(\"Model Logistic Regression\")\n",
    "print(\"Accuracy: %.3F\"%metrics.accuracy_score(y_test,y_pred))\n",
    "print(\"Balanced accuracy: %.3F\"%metrics.balanced_accuracy_score(y_test,y_pred))\n",
    "print('Precision score for \"Yes\":  %.3F'%metrics.precision_score(y_test,y_pred, pos_label = 1))\n",
    "print('Precision score for \"No\": %.3F'%metrics.precision_score(y_test,y_pred, pos_label=0))\n",
    "print('Recall score for \"Yes\": %.3F'%metrics.recall_score(y_test,y_pred, pos_label = 1))\n",
    "print('Recall score for \"No\": %.3F'%metrics.recall_score(y_test,y_pred, pos_label = 0))\n",
    "print('F1 score: %.3F'%metrics.f1_score(y_test,y_pred))\n",
    "\n",
    "\n",
    "cm = metrics.confusion_matrix(y_test, y_pred, labels = clf.classes_)\n",
    "_, ax = plt.subplots()\n",
    "display_cm = metrics.ConfusionMatrixDisplay(confusion_matrix = cm, \n",
    "                                    display_labels = ['not_top_5', 'top_5'])\n",
    "ax.set_xticks([0, 1])\n",
    "ax.set_yticks([0, 1])\n",
    "ax.set_xticklabels(labels = ['not_top_5', 'top_5'], fontsize = 8)\n",
    "ax.set_yticklabels(labels = ['not_top_5', 'top_5'], fontsize = 8)\n",
    "display_cm.plot(ax = ax)"
   ]
  },
  {
   "cell_type": "markdown",
   "id": "4220657f-f153-4583-835a-bde987bbdad7",
   "metadata": {},
   "source": [
    "As we can see, the logistic regression model gave us lower quality results than the KNN model (with a balanced accuracy of 55%, recall of 53.1% and F1 of 0.2) overall much lower than the KNN model.\n",
    "Next, we will try a Random Forest:\n",
    "\n",
    "<h3>Random Forest</h3>"
   ]
  },
  {
   "cell_type": "code",
   "execution_count": 12,
   "id": "38b7d1cc-46fc-436d-92c1-1dbcae419f51",
   "metadata": {},
   "outputs": [],
   "source": [
    "from sklearn.ensemble import RandomForestClassifier\n",
    "rf = RandomForestClassifier(n_estimators=10)\n",
    "rf.fit(X_train, y_train)\n",
    "y_pred_rf = rf.predict(X_test)"
   ]
  },
  {
   "cell_type": "code",
   "execution_count": 13,
   "id": "21065cb5-7e8b-48f3-bdf5-cb83d35cb712",
   "metadata": {},
   "outputs": [
    {
     "name": "stdout",
     "output_type": "stream",
     "text": [
      "Model Random Forest\n",
      "Accuracy: 0.978\n",
      "Balanced accuracy: 0.936\n",
      "Precision score for \"Yes\":  0.900\n",
      "Precision score for \"No\": 0.987\n",
      "Recall score for \"Yes\": 0.882\n",
      "Recall score for \"No\": 0.989\n",
      "F1 score: 0.891\n"
     ]
    },
    {
     "data": {
      "text/plain": [
       "<sklearn.metrics._plot.confusion_matrix.ConfusionMatrixDisplay at 0x2248077d9d0>"
      ]
     },
     "execution_count": 13,
     "metadata": {},
     "output_type": "execute_result"
    },
    {
     "data": {
      "image/png": "[encoded data removed]",
      "text/plain": [
       "<Figure size 640x480 with 2 Axes>"
      ]
     },
     "metadata": {},
     "output_type": "display_data"
    }
   ],
   "source": [
    "#lets review the quality using the standard metrics:\n",
    "y_pred = y_pred_rf\n",
    "print(\"Model Random Forest\")\n",
    "print(\"Accuracy: %.3F\"%metrics.accuracy_score(y_test,y_pred))\n",
    "print(\"Balanced accuracy: %.3F\"%metrics.balanced_accuracy_score(y_test,y_pred))\n",
    "print('Precision score for \"Yes\":  %.3F'%metrics.precision_score(y_test,y_pred, pos_label = 1))\n",
    "print('Precision score for \"No\": %.3F'%metrics.precision_score(y_test,y_pred, pos_label=0))\n",
    "print('Recall score for \"Yes\": %.3F'%metrics.recall_score(y_test,y_pred, pos_label = 1))\n",
    "print('Recall score for \"No\": %.3F'%metrics.recall_score(y_test,y_pred, pos_label = 0))\n",
    "print('F1 score: %.3F'%metrics.f1_score(y_test,y_pred))\n",
    "\n",
    "\n",
    "cm = metrics.confusion_matrix(y_test, y_pred, labels = rf.classes_)\n",
    "_, ax = plt.subplots()\n",
    "display_cm = metrics.ConfusionMatrixDisplay(confusion_matrix = cm, \n",
    "                                    display_labels = ['not_top_5', 'top_5'])\n",
    "ax.set_xticks([0, 1])\n",
    "ax.set_yticks([0, 1])\n",
    "ax.set_xticklabels(labels = ['not_top_5', 'top_5'], fontsize = 8)\n",
    "ax.set_yticklabels(labels = ['not_top_5', 'top_5'], fontsize = 8)\n",
    "display_cm.plot(ax = ax)"
   ]
  },
  {
   "cell_type": "markdown",
   "id": "e72140f9-4ece-466e-b409-9f058795ced0",
   "metadata": {},
   "source": [
    "So far, it looks like this model is the best performing model. with a balanced accuracy of 93.6%, recall of 88.2% and F1 of .891, this is so far the best model.\n",
    "\n",
    "Next, we will try another ensemble method, the Gradient Boosting:\n",
    "\n",
    "<h3>Gradient Boosting</h3>"
   ]
  },
  {
   "cell_type": "code",
   "execution_count": 17,
   "id": "e6982ecc-e4e7-43d8-afea-4e8345ea936c",
   "metadata": {},
   "outputs": [],
   "source": [
    "from sklearn.ensemble import GradientBoostingClassifier\n",
    "\n",
    "gb = GradientBoostingClassifier(n_estimators=100)\n",
    "gb.fit(X_train, y_train)\n",
    "y_pred_gb = gb.predict(X_test)"
   ]
  },
  {
   "cell_type": "code",
   "execution_count": 18,
   "id": "30055ad0-be22-4c9a-acde-59080893634c",
   "metadata": {},
   "outputs": [
    {
     "name": "stdout",
     "output_type": "stream",
     "text": [
      "Gradient Boosting\n",
      "Accuracy: 0.902\n",
      "Balanced accuracy: 0.516\n",
      "Precision score for \"Yes\":  0.726\n",
      "Precision score for \"No\": 0.903\n",
      "Recall score for \"Yes\": 0.034\n",
      "Recall score for \"No\": 0.999\n",
      "F1 score: 0.064\n"
     ]
    },
    {
     "data": {
      "text/plain": [
       "<sklearn.metrics._plot.confusion_matrix.ConfusionMatrixDisplay at 0x224806cbd10>"
      ]
     },
     "execution_count": 18,
     "metadata": {},
     "output_type": "execute_result"
    },
    {
     "data": {
      "image/png": "[encoded data removed]",
      "text/plain": [
       "<Figure size 640x480 with 2 Axes>"
      ]
     },
     "metadata": {},
     "output_type": "display_data"
    }
   ],
   "source": [
    "#lets review the quality using the standard metrics:\n",
    "y_pred = y_pred_gb\n",
    "print(\"Gradient Boosting\")\n",
    "print(\"Accuracy: %.3F\"%metrics.accuracy_score(y_test,y_pred))\n",
    "print(\"Balanced accuracy: %.3F\"%metrics.balanced_accuracy_score(y_test,y_pred))\n",
    "print('Precision score for \"Yes\":  %.3F'%metrics.precision_score(y_test,y_pred, pos_label = 1))\n",
    "print('Precision score for \"No\": %.3F'%metrics.precision_score(y_test,y_pred, pos_label=0))\n",
    "print('Recall score for \"Yes\": %.3F'%metrics.recall_score(y_test,y_pred, pos_label = 1))\n",
    "print('Recall score for \"No\": %.3F'%metrics.recall_score(y_test,y_pred, pos_label = 0))\n",
    "print('F1 score: %.3F'%metrics.f1_score(y_test,y_pred))\n",
    "\n",
    "\n",
    "cm = metrics.confusion_matrix(y_test, y_pred, labels = gb.classes_)\n",
    "_, ax = plt.subplots()\n",
    "display_cm = metrics.ConfusionMatrixDisplay(confusion_matrix = cm, \n",
    "                                    display_labels = ['not_top_5', 'top_5'])\n",
    "ax.set_xticks([0, 1])\n",
    "ax.set_yticks([0, 1])\n",
    "ax.set_xticklabels(labels = ['not_top_5', 'top_5'], fontsize = 8)\n",
    "ax.set_yticklabels(labels = ['not_top_5', 'top_5'], fontsize = 8)\n",
    "display_cm.plot(ax = ax)"
   ]
  },
  {
   "cell_type": "markdown",
   "id": "0b2389a1-ed54-450b-bc09-87ccc8af5b08",
   "metadata": {},
   "source": [
    "This last model shows lower quality results with a balanced accuracy of 51.6%, recall of just 3.4% and F1 of 0.064. Based on the results seen, we want to try and optimize a random forest model to try and get the best results possible.\n",
    "\n",
    "<h2>Optimizing 2 ways</h2>\n",
    "\n",
    "Firs lets try to optimize the Random Forest Model using Gridsearch:"
   ]
  },
  {
   "cell_type": "code",
   "execution_count": 19,
   "id": "e06f3a1f-1c4b-4e28-8595-04fc51d72584",
   "metadata": {},
   "outputs": [],
   "source": [
    "from sklearn.ensemble import RandomForestClassifier\n",
    "param_grid = {'max_depth':np.arange(1,100, 10)}\n",
    "ran_for = RandomForestClassifier()\n",
    "ran_for_cv= GridSearchCV(ran_for,param_grid,cv=5)\n"
   ]
  },
  {
   "cell_type": "code",
   "execution_count": 20,
   "id": "b9950245-80ce-4c65-91ae-5444c92556a6",
   "metadata": {},
   "outputs": [
    {
     "data": {
      "text/html": [
       "<style>#sk-container-id-1 {color: black;background-color: white;}#sk-container-id-1 pre{padding: 0;}#sk-container-id-1 div.sk-toggleable {background-color: white;}#sk-container-id-1 label.sk-toggleable__label {cursor: pointer;display: block;width: 100%;margin-bottom: 0;padding: 0.3em;box-sizing: border-box;text-align: center;}#sk-container-id-1 label.sk-toggleable__label-arrow:before {content: \"▸\";float: left;margin-right: 0.25em;color: #696969;}#sk-container-id-1 label.sk-toggleable__label-arrow:hover:before {color: black;}#sk-container-id-1 div.sk-estimator:hover label.sk-toggleable__label-arrow:before {color: black;}#sk-container-id-1 div.sk-toggleable__content {max-height: 0;max-width: 0;overflow: hidden;text-align: left;background-color: #f0f8ff;}#sk-container-id-1 div.sk-toggleable__content pre {margin: 0.2em;color: black;border-radius: 0.25em;background-color: #f0f8ff;}#sk-container-id-1 input.sk-toggleable__control:checked~div.sk-toggleable__content {max-height: 200px;max-width: 100%;overflow: auto;}#sk-container-id-1 input.sk-toggleable__control:checked~label.sk-toggleable__label-arrow:before {content: \"▾\";}#sk-container-id-1 div.sk-estimator input.sk-toggleable__control:checked~label.sk-toggleable__label {background-color: #d4ebff;}#sk-container-id-1 div.sk-label input.sk-toggleable__control:checked~label.sk-toggleable__label {background-color: #d4ebff;}#sk-container-id-1 input.sk-hidden--visually {border: 0;clip: rect(1px 1px 1px 1px);clip: rect(1px, 1px, 1px, 1px);height: 1px;margin: -1px;overflow: hidden;padding: 0;position: absolute;width: 1px;}#sk-container-id-1 div.sk-estimator {font-family: monospace;background-color: #f0f8ff;border: 1px dotted black;border-radius: 0.25em;box-sizing: border-box;margin-bottom: 0.5em;}#sk-container-id-1 div.sk-estimator:hover {background-color: #d4ebff;}#sk-container-id-1 div.sk-parallel-item::after {content: \"\";width: 100%;border-bottom: 1px solid gray;flex-grow: 1;}#sk-container-id-1 div.sk-label:hover label.sk-toggleable__label {background-color: #d4ebff;}#sk-container-id-1 div.sk-serial::before {content: \"\";position: absolute;border-left: 1px solid gray;box-sizing: border-box;top: 0;bottom: 0;left: 50%;z-index: 0;}#sk-container-id-1 div.sk-serial {display: flex;flex-direction: column;align-items: center;background-color: white;padding-right: 0.2em;padding-left: 0.2em;position: relative;}#sk-container-id-1 div.sk-item {position: relative;z-index: 1;}#sk-container-id-1 div.sk-parallel {display: flex;align-items: stretch;justify-content: center;background-color: white;position: relative;}#sk-container-id-1 div.sk-item::before, #sk-container-id-1 div.sk-parallel-item::before {content: \"\";position: absolute;border-left: 1px solid gray;box-sizing: border-box;top: 0;bottom: 0;left: 50%;z-index: -1;}#sk-container-id-1 div.sk-parallel-item {display: flex;flex-direction: column;z-index: 1;position: relative;background-color: white;}#sk-container-id-1 div.sk-parallel-item:first-child::after {align-self: flex-end;width: 50%;}#sk-container-id-1 div.sk-parallel-item:last-child::after {align-self: flex-start;width: 50%;}#sk-container-id-1 div.sk-parallel-item:only-child::after {width: 0;}#sk-container-id-1 div.sk-dashed-wrapped {border: 1px dashed gray;margin: 0 0.4em 0.5em 0.4em;box-sizing: border-box;padding-bottom: 0.4em;background-color: white;}#sk-container-id-1 div.sk-label label {font-family: monospace;font-weight: bold;display: inline-block;line-height: 1.2em;}#sk-container-id-1 div.sk-label-container {text-align: center;}#sk-container-id-1 div.sk-container {/* jupyter's `normalize.less` sets `[hidden] { display: none; }` but bootstrap.min.css set `[hidden] { display: none !important; }` so we also need the `!important` here to be able to override the default hidden behavior on the sphinx rendered scikit-learn.org. See: https://github.com/scikit-learn/scikit-learn/issues/21755 */display: inline-block !important;position: relative;}#sk-container-id-1 div.sk-text-repr-fallback {display: none;}</style><div id=\"sk-container-id-1\" class=\"sk-top-container\"><div class=\"sk-text-repr-fallback\"><pre>GridSearchCV(cv=5, estimator=RandomForestClassifier(),\n",
       "             param_grid={&#x27;max_depth&#x27;: array([ 1, 11, 21, 31, 41, 51, 61, 71, 81, 91])})</pre><b>In a Jupyter environment, please rerun this cell to show the HTML representation or trust the notebook. <br />On GitHub, the HTML representation is unable to render, please try loading this page with nbviewer.org.</b></div><div class=\"sk-container\" hidden><div class=\"sk-item sk-dashed-wrapped\"><div class=\"sk-label-container\"><div class=\"sk-label sk-toggleable\"><input class=\"sk-toggleable__control sk-hidden--visually\" id=\"sk-estimator-id-1\" type=\"checkbox\" ><label for=\"sk-estimator-id-1\" class=\"sk-toggleable__label sk-toggleable__label-arrow\">GridSearchCV</label><div class=\"sk-toggleable__content\"><pre>GridSearchCV(cv=5, estimator=RandomForestClassifier(),\n",
       "             param_grid={&#x27;max_depth&#x27;: array([ 1, 11, 21, 31, 41, 51, 61, 71, 81, 91])})</pre></div></div></div><div class=\"sk-parallel\"><div class=\"sk-parallel-item\"><div class=\"sk-item\"><div class=\"sk-label-container\"><div class=\"sk-label sk-toggleable\"><input class=\"sk-toggleable__control sk-hidden--visually\" id=\"sk-estimator-id-2\" type=\"checkbox\" ><label for=\"sk-estimator-id-2\" class=\"sk-toggleable__label sk-toggleable__label-arrow\">estimator: RandomForestClassifier</label><div class=\"sk-toggleable__content\"><pre>RandomForestClassifier()</pre></div></div></div><div class=\"sk-serial\"><div class=\"sk-item\"><div class=\"sk-estimator sk-toggleable\"><input class=\"sk-toggleable__control sk-hidden--visually\" id=\"sk-estimator-id-3\" type=\"checkbox\" ><label for=\"sk-estimator-id-3\" class=\"sk-toggleable__label sk-toggleable__label-arrow\">RandomForestClassifier</label><div class=\"sk-toggleable__content\"><pre>RandomForestClassifier()</pre></div></div></div></div></div></div></div></div></div></div>"
      ],
      "text/plain": [
       "GridSearchCV(cv=5, estimator=RandomForestClassifier(),\n",
       "             param_grid={'max_depth': array([ 1, 11, 21, 31, 41, 51, 61, 71, 81, 91])})"
      ]
     },
     "execution_count": 20,
     "metadata": {},
     "output_type": "execute_result"
    }
   ],
   "source": [
    "ran_for_cv.fit(X_train,y_train)"
   ]
  },
  {
   "cell_type": "code",
   "execution_count": 21,
   "id": "1b45fab4-a24f-4be0-a22b-f1e1476b72b7",
   "metadata": {},
   "outputs": [
    {
     "name": "stdout",
     "output_type": "stream",
     "text": [
      "Best Score:0.9777600467499774\n",
      "Best Parameters: {'max_depth': 61}\n"
     ]
    }
   ],
   "source": [
    "print(\"Best Score:\" + str(ran_for_cv.best_score_))\n",
    "print(\"Best Parameters: \" + str(ran_for_cv.best_params_))"
   ]
  },
  {
   "cell_type": "code",
   "execution_count": 22,
   "id": "8d369cf1-67f4-4c41-9862-1d49230aa6e4",
   "metadata": {},
   "outputs": [],
   "source": [
    "y_pred = ran_for_cv.predict(X_test)"
   ]
  },
  {
   "cell_type": "code",
   "execution_count": 23,
   "id": "408fab54-f5cc-4f4b-a384-5dd5374c4ed5",
   "metadata": {},
   "outputs": [
    {
     "name": "stdout",
     "output_type": "stream",
     "text": [
      "Random Forest Best Grid Search\n",
      "Accuracy: 0.978\n",
      "Balanced accuracy: 0.940\n",
      "Precision score for \"Yes\":  0.892\n",
      "Precision score for \"No\": 0.988\n",
      "Recall score for \"Yes\": 0.891\n",
      "Recall score for \"No\": 0.988\n",
      "F1 score: 0.892\n"
     ]
    },
    {
     "data": {
      "text/plain": [
       "<sklearn.metrics._plot.confusion_matrix.ConfusionMatrixDisplay at 0x22483616dd0>"
      ]
     },
     "execution_count": 23,
     "metadata": {},
     "output_type": "execute_result"
    },
    {
     "data": {
      "image/png": "[encoded data removed]",
      "text/plain": [
       "<Figure size 640x480 with 2 Axes>"
      ]
     },
     "metadata": {},
     "output_type": "display_data"
    }
   ],
   "source": [
    "print(\"Random Forest Best Grid Search\")\n",
    "print(\"Accuracy: %.3F\"%metrics.accuracy_score(y_test,y_pred))\n",
    "print(\"Balanced accuracy: %.3F\"%metrics.balanced_accuracy_score(y_test,y_pred))\n",
    "print('Precision score for \"Yes\":  %.3F'%metrics.precision_score(y_test,y_pred, pos_label = 1))\n",
    "print('Precision score for \"No\": %.3F'%metrics.precision_score(y_test,y_pred, pos_label=0))\n",
    "print('Recall score for \"Yes\": %.3F'%metrics.recall_score(y_test,y_pred, pos_label = 1))\n",
    "print('Recall score for \"No\": %.3F'%metrics.recall_score(y_test,y_pred, pos_label = 0))\n",
    "print('F1 score: %.3F'%metrics.f1_score(y_test,y_pred))\n",
    "\n",
    "\n",
    "cm = metrics.confusion_matrix(y_test, y_pred, labels = gb.classes_)\n",
    "_, ax = plt.subplots()\n",
    "display_cm = metrics.ConfusionMatrixDisplay(confusion_matrix = cm, \n",
    "                                    display_labels = ['not_top_5', 'top_5'])\n",
    "ax.set_xticks([0, 1])\n",
    "ax.set_yticks([0, 1])\n",
    "ax.set_xticklabels(labels = ['not_top_5', 'top_5'], fontsize = 8)\n",
    "ax.set_yticklabels(labels = ['not_top_5', 'top_5'], fontsize = 8)\n",
    "display_cm.plot(ax = ax)"
   ]
  },
  {
   "cell_type": "markdown",
   "id": "92d558e2-3889-4baf-83a6-23a7b15938e5",
   "metadata": {},
   "source": [
    "The results of the Gridsearch are promising with a balanced accuracy of 94%, recall of 89.1% and F1 score of .892. However, Lets use Bayesian optimization to try to improve around this model."
   ]
  },
  {
   "cell_type": "code",
   "execution_count": 26,
   "id": "2ba78da7-228c-4275-89b5-31e64cb7d67e",
   "metadata": {},
   "outputs": [],
   "source": [
    "from sklearn.model_selection import RandomizedSearchCV\n",
    "from sklearn.model_selection import cross_val_score\n",
    "def rf_eval(max_depth, min_samples_split, min_samples_leaf, n_estimators):\n",
    "    rf_mod = RandomForestClassifier(max_depth =  int(max_depth), min_samples_split = int(min_samples_split), min_samples_leaf = int(min_samples_leaf), n_estimators = int(n_estimators))\n",
    "    scores = cross_val_score(rf_mod, X_train, y_train, scoring='f1', cv = 3)\n",
    "    return scores.mean()"
   ]
  },
  {
   "cell_type": "code",
   "execution_count": null,
   "id": "f2082d56-a0e2-4ddf-b29d-68a873ad0dd5",
   "metadata": {},
   "outputs": [
    {
     "name": "stdout",
     "output_type": "stream",
     "text": [
      "|   iter    |  target   | max_depth | min_sa... | min_sa... | n_esti... |\n",
      "-------------------------------------------------------------------------\n",
      "| \u001b[0m1        \u001b[0m | \u001b[0m0.8832   \u001b[0m | \u001b[0m65.94    \u001b[0m | \u001b[0m1.562    \u001b[0m | \u001b[0m2.14     \u001b[0m | \u001b[0m129.4    \u001b[0m |\n",
      "| \u001b[0m2        \u001b[0m | \u001b[0m0.8765   \u001b[0m | \u001b[0m53.07    \u001b[0m | \u001b[0m2.901    \u001b[0m | \u001b[0m7.947    \u001b[0m | \u001b[0m80.21    \u001b[0m |\n",
      "| \u001b[0m3        \u001b[0m | \u001b[0m0.8816   \u001b[0m | \u001b[0m66.39    \u001b[0m | \u001b[0m2.217    \u001b[0m | \u001b[0m2.179    \u001b[0m | \u001b[0m128.3    \u001b[0m |\n"
     ]
    }
   ],
   "source": [
    "from bayes_opt import BayesianOptimization\n",
    "\n",
    "lgbBO = BayesianOptimization(rf_eval, {'max_depth': (50, 70),\n",
    "                                                'min_samples_split': (2, 10),\n",
    "                                                'min_samples_leaf': (1, 4),\n",
    "                                                'n_estimators' : (50, 150)\n",
    "                                                },allow_duplicate_points = True)\n",
    "\n",
    "lgbBO.maximize(n_iter=5, init_points=2)"
   ]
  },
  {
   "cell_type": "code",
   "execution_count": null,
   "id": "0aafb37f-8f9a-4337-9ce5-698327ddfe08",
   "metadata": {},
   "outputs": [],
   "source": [
    "lgbBO.max"
   ]
  },
  {
   "cell_type": "code",
   "execution_count": null,
   "id": "f2ccfc6e-7386-4d81-8c9d-62dd6ec92e93",
   "metadata": {},
   "outputs": [],
   "source": [
    "rf_mod = RandomForestClassifier(max_depth =  31, min_samples_split = 2, min_samples_leaf = 1, n_estimators = 79)\n",
    "rf_mod.fit(X_train, y_train)\n",
    "y_pred = rf_mod.predict(X_test)"
   ]
  },
  {
   "cell_type": "code",
   "execution_count": null,
   "id": "c0d8c265-193c-4fca-bbe3-f1d4cb3ef358",
   "metadata": {},
   "outputs": [],
   "source": [
    "print(\"Random Forest Best Bayesian Opt\")\n",
    "print(\"Accuracy: %.3F\"%metrics.accuracy_score(y_test,y_pred))\n",
    "print(\"Balanced accuracy: %.3F\"%metrics.balanced_accuracy_score(y_test,y_pred))\n",
    "print('Precision score for \"Yes\":  %.3F'%metrics.precision_score(y_test,y_pred, pos_label = 1))\n",
    "print('Precision score for \"No\": %.3F'%metrics.precision_score(y_test,y_pred, pos_label=0))\n",
    "print('Recall score for \"Yes\": %.3F'%metrics.recall_score(y_test,y_pred, pos_label = 1))\n",
    "print('Recall score for \"No\": %.3F'%metrics.recall_score(y_test,y_pred, pos_label = 0))\n",
    "print('F1 score: %.3F'%metrics.f1_score(y_test,y_pred))\n",
    "\n",
    "\n",
    "cm = metrics.confusion_matrix(y_test, y_pred, labels = gb.classes_)\n",
    "_, ax = plt.subplots()\n",
    "display_cm = metrics.ConfusionMatrixDisplay(confusion_matrix = cm, \n",
    "                                    display_labels = ['not_top_5', 'top_5'])\n",
    "ax.set_xticks([0, 1])\n",
    "ax.set_yticks([0, 1])\n",
    "ax.set_xticklabels(labels = ['not_top_5', 'top_5'], fontsize = 8)\n",
    "ax.set_yticklabels(labels = ['not_top_5', 'top_5'], fontsize = 8)\n",
    "display_cm.plot(ax = ax)"
   ]
  },
  {
   "cell_type": "markdown",
   "id": "6e91bdab-f2a6-4251-883b-360bd5b7c5d9",
   "metadata": {},
   "source": [
    "The results from the Bayesian Optimization are just slightly worse with a balanced accuracy of 95%, recall of 90.5% and F1 of 0.93. Since the results are almost as good, we will use these results as our best model since the n_estimators is lower than the first model and as such it will require lower computational power."
   ]
  },
  {
   "cell_type": "code",
   "execution_count": null,
   "id": "431a586a-0f6c-4150-8a81-8a0f032bddac",
   "metadata": {},
   "outputs": [],
   "source": [
    "#save the best model as best_ran_for\n",
    "best_ran_for = rf_mod"
   ]
  },
  {
   "cell_type": "code",
   "execution_count": null,
   "id": "3039f953-64ea-4845-9dad-2f0826b8776a",
   "metadata": {},
   "outputs": [],
   "source": [
    "#import the column names\n",
    "x_cols = np.load('../data/train_test/xcolumns.npy', allow_pickle=True)"
   ]
  },
  {
   "cell_type": "code",
   "execution_count": null,
   "id": "45d46c74-24d4-488c-adfd-292140966f18",
   "metadata": {},
   "outputs": [],
   "source": [
    "#plot a graph of feature importance for this model\n",
    "imps = best_ran_for.feature_importances_\n",
    "rf_feat_imps = pd.DataFrame({'Col':x_cols, 'importance':best_ran_for.feature_importances_}).sort_values(by='importance', ascending=False)\n",
    "rf_feat_imps.plot(kind='bar', x='Col', y='importance', figsize=(10,6))\n",
    "plt.xlabel('features')\n",
    "plt.ylabel('importance')\n",
    "plt.title('Best random forest regressor feature importances');"
   ]
  },
  {
   "cell_type": "markdown",
   "id": "2186b1cc-494b-4bdb-9af0-c3a890caa599",
   "metadata": {},
   "source": [
    "It looks like the best features that define wether a song will be in the top 5 or not are the weekly movement, the days since the relase, popularity and daily movement. the musical features seem to be relevant but a lot less. surprisingly the socioeconomic factors for each country does not influence the model.\n",
    "The next thing we will do is save this model for deployment.\n",
    "\n",
    "<h3>Saving the model</h3>"
   ]
  },
  {
   "cell_type": "code",
   "execution_count": null,
   "id": "316e3722-62df-41c6-a4a3-f12b7a07a219",
   "metadata": {},
   "outputs": [],
   "source": [
    "sklearn_version"
   ]
  },
  {
   "cell_type": "code",
   "execution_count": null,
   "id": "af88d9f8-7a0b-463b-ac8b-6312cc81f86b",
   "metadata": {},
   "outputs": [],
   "source": [
    "print(np.version.version)"
   ]
  },
  {
   "cell_type": "code",
   "execution_count": null,
   "id": "4110d40e-5d71-4c7c-b97a-b9a4c36e9c8d",
   "metadata": {},
   "outputs": [],
   "source": [
    "#save the model and model information\n",
    "best_model = best_ran_for\n",
    "best_model.version = '1.0'\n",
    "best_model.pandas_version = '2.2.2'\n",
    "best_model.numpy_version = '1.26.4'\n",
    "best_model.sklearn_version = '1.2.2'\n",
    "best_model.X_columns = [col for col in x_cols]\n",
    "best_model.build_datetime = '2024-06-26'"
   ]
  },
  {
   "cell_type": "code",
   "execution_count": null,
   "id": "36226509-56e1-4ca7-a14a-45e037d67111",
   "metadata": {},
   "outputs": [],
   "source": [
    "# save the model\n",
    "# save the iris classification model as a pickle file\n",
    "model_pkl_file = \"../models/songs_top5_model.pkl\"  \n",
    "\n",
    "with open(model_pkl_file, 'wb') as file:  \n",
    "    pickle.dump(best_model, file)"
   ]
  },
  {
   "cell_type": "code",
   "execution_count": null,
   "id": "5e922298-511b-4bcb-8324-8bf417eea3ed",
   "metadata": {},
   "outputs": [],
   "source": []
  }
 ],
 "metadata": {
  "kernelspec": {
   "display_name": "Python 3",
   "language": "python",
   "name": "python3"
  },
  "language_info": {
   "codemirror_mode": {
    "name": "ipython",
    "version": 3
   },
   "file_extension": ".py",
   "mimetype": "text/x-python",
   "name": "python",
   "nbconvert_exporter": "python",
   "pygments_lexer": "ipython3",
   "version": "3.11.7"
  }
 },
 "nbformat": 4,
 "nbformat_minor": 5
}
